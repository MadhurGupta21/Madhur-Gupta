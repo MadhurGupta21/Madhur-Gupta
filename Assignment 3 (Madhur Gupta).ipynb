{
 "cells": [
  {
   "cell_type": "markdown",
   "id": "2cbf00d0",
   "metadata": {},
   "source": [
    "# Game of \"Functions\""
   ]
  },
  {
   "cell_type": "code",
   "execution_count": null,
   "id": "2abb8c18",
   "metadata": {},
   "outputs": [],
   "source": [
    "no_of_elements = int(input(\"Enter no. of elements:\"))\n",
    "\n",
    "list1 = []\n",
    "\n",
    "for i in range(0,no_of_elements):\n",
    "    list_element = int(input(\"Enter the number\"))\n",
    "    list1.append(list_element)\n",
    "\n",
    "def gameOfFucntions(list2):\n",
    "    _sum=0\n",
    "    for i in list2:\n",
    "        _sum=_sum+i\n",
    "    return _sum\n",
    "\n",
    "Sum_of_List_Elements = gameOfFucntions(list1)\n",
    "print(\"Sum of all elements in this list\", Sum_of_List_Elements)"
   ]
  },
  {
   "cell_type": "markdown",
   "id": "fd732d9a",
   "metadata": {},
   "source": [
    "# String inside the function\n",
    "\n"
   ]
  },
  {
   "cell_type": "code",
   "execution_count": null,
   "id": "22986915",
   "metadata": {},
   "outputs": [],
   "source": [
    "String1 = input(\"Enter String:\")\n",
    "\n",
    "def stringReverse(String2):\n",
    "    reversedString = \" \"\n",
    "    \n",
    "    for i in String2:\n",
    "        reversedString = i+reversedString       \n",
    "    return reversedString\n",
    "\n",
    "_output=stringReverse(String1)\n",
    "print(_output)"
   ]
  },
  {
   "cell_type": "markdown",
   "id": "5a1833f9",
   "metadata": {},
   "source": [
    "# Calculate the Upper and The lower Case"
   ]
  },
  {
   "cell_type": "code",
   "execution_count": null,
   "id": "b66c37c4",
   "metadata": {},
   "outputs": [],
   "source": [
    "inputString = input(\"Enter String: \")\n",
    "\n",
    "lowerCount = 0\n",
    "upperCount = 0\n",
    "\n",
    "def caseCounter(inputString):\n",
    "    \n",
    "    for i in inputString:\n",
    "        global lowerCount\n",
    "        global upperCount\n",
    "        if i.islower():\n",
    "                lowerCount+=1\n",
    "        elif i.isupper():\n",
    "                upperCount+=1\n",
    "        else:\n",
    "            pass\n",
    "    return upperCount,lowerCount\n",
    "\n",
    "\n",
    "caseCounter(inputString)\n",
    "\n",
    "print(\"Upper Case: \",upperCount)         \n",
    "print(\"Lower Case: \",lowerCount)\n"
   ]
  },
  {
   "cell_type": "code",
   "execution_count": null,
   "id": "f67b7918",
   "metadata": {},
   "outputs": [],
   "source": []
  }
 ],
 "metadata": {
  "kernelspec": {
   "display_name": "Python 3 (ipykernel)",
   "language": "python",
   "name": "python3"
  },
  "language_info": {
   "codemirror_mode": {
    "name": "ipython",
    "version": 3
   },
   "file_extension": ".py",
   "mimetype": "text/x-python",
   "name": "python",
   "nbconvert_exporter": "python",
   "pygments_lexer": "ipython3",
   "version": "3.9.6"
  }
 },
 "nbformat": 4,
 "nbformat_minor": 5
}
