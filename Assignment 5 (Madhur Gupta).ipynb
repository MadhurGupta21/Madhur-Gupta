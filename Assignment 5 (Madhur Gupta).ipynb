{
 "cells": [
  {
   "cell_type": "code",
   "execution_count": 5,
   "id": "87848f63",
   "metadata": {},
   "outputs": [
    {
     "name": "stdout",
     "output_type": "stream",
     "text": [
      "Enter 'x': 10\n",
      "Enter 'n': 2\n",
      "pow( 10 , 2 ) = 100\n"
     ]
    }
   ],
   "source": [
    "class power:\n",
    "    def pow(self,x,n):\n",
    "        print(\"pow(\",x,\",\",n,\") =\",x**n)\n",
    "p=power()\n",
    "x=int(input(\"Enter 'x': \"))\n",
    "n=int(input(\"Enter 'n': \"))\n",
    "p.pow(x,n)"
   ]
  },
  {
   "cell_type": "code",
   "execution_count": null,
   "id": "c9e14803",
   "metadata": {},
   "outputs": [],
   "source": []
  }
 ],
 "metadata": {
  "kernelspec": {
   "display_name": "Python 3 (ipykernel)",
   "language": "python",
   "name": "python3"
  },
  "language_info": {
   "codemirror_mode": {
    "name": "ipython",
    "version": 3
   },
   "file_extension": ".py",
   "mimetype": "text/x-python",
   "name": "python",
   "nbconvert_exporter": "python",
   "pygments_lexer": "ipython3",
   "version": "3.9.6"
  }
 },
 "nbformat": 4,
 "nbformat_minor": 5
}
