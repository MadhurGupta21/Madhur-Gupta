{
 "cells": [
  {
   "cell_type": "markdown",
   "id": "983340be",
   "metadata": {},
   "source": [
    "# Fun with Lists and Tuples\n"
   ]
  },
  {
   "cell_type": "code",
   "execution_count": 11,
   "id": "fd8bafc3",
   "metadata": {},
   "outputs": [
    {
     "name": "stdout",
     "output_type": "stream",
     "text": [
      "[(2, 1), (1, 2), (2, 3), (4, 4), (2, 5)]\n"
     ]
    }
   ],
   "source": [
    "list1 = [(2, 5), (1, 2), (4, 4), (2, 3), (2, 1)]\n",
    "\n",
    "len_list1 = len(list1)\n",
    "\n",
    "for i in range(0, len_list1):\n",
    "    for j in range(0, len_list1-i-1): \n",
    "        \n",
    "        if (list1[j][-1] > list1[j + 1][-1]):  \n",
    "                temp = list1[j]  \n",
    "                list1[j]= list1[j + 1]  \n",
    "                list1[j + 1]= temp  \n",
    "                \n",
    "print(list1)"
   ]
  },
  {
   "cell_type": "markdown",
   "id": "dced16a3",
   "metadata": {},
   "source": [
    "# Make Your Own mini-Dictionary\n"
   ]
  },
  {
   "cell_type": "code",
   "execution_count": 12,
   "id": "25bdc704",
   "metadata": {},
   "outputs": [
    {
     "name": "stdout",
     "output_type": "stream",
     "text": [
      "{'a': 97, 'b': 98, 'c': 99, 'd': 100, 'e': 101, 'f': 102, 'g': 103, 'h': 104, 'i': 105, 'j': 106, 'k': 107, 'l': 108, 'm': 109, 'n': 110, 'o': 111, 'p': 112, 'q': 113, 'r': 114, 's': 115, 't': 116, 'u': 117, 'v': 118, 'w': 119, 'x': 120, 'y': 121, 'z': 122}\n"
     ]
    }
   ],
   "source": [
    "dict1={}\n",
    "\n",
    "for i in range(97,123):\n",
    "    dict1[chr(i)]=i\n",
    "print(dict1)"
   ]
  },
  {
   "cell_type": "code",
   "execution_count": null,
   "id": "ceb703b2",
   "metadata": {},
   "outputs": [],
   "source": []
  }
 ],
 "metadata": {
  "kernelspec": {
   "display_name": "Python 3 (ipykernel)",
   "language": "python",
   "name": "python3"
  },
  "language_info": {
   "codemirror_mode": {
    "name": "ipython",
    "version": 3
   },
   "file_extension": ".py",
   "mimetype": "text/x-python",
   "name": "python",
   "nbconvert_exporter": "python",
   "pygments_lexer": "ipython3",
   "version": "3.9.6"
  }
 },
 "nbformat": 4,
 "nbformat_minor": 5
}
