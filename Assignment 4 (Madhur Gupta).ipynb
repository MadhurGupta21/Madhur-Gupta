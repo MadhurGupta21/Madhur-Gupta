{
 "cells": [
  {
   "cell_type": "markdown",
   "id": "725951d2",
   "metadata": {},
   "source": [
    "# Play with Lambda"
   ]
  },
  {
   "cell_type": "code",
   "execution_count": 1,
   "id": "5aead98d",
   "metadata": {},
   "outputs": [
    {
     "name": "stdout",
     "output_type": "stream",
     "text": [
      "Enter the no: 1\n"
     ]
    },
    {
     "data": {
      "text/plain": [
       "26"
      ]
     },
     "execution_count": 1,
     "metadata": {},
     "output_type": "execute_result"
    }
   ],
   "source": [
    "input_ = int(input(\"Enter the no: \"))\n",
    "Add=lambda input_: input_+25\n",
    "Add(input_)"
   ]
  },
  {
   "cell_type": "markdown",
   "id": "d75ee4b8",
   "metadata": {},
   "source": [
    "# Find the way with Maps"
   ]
  },
  {
   "cell_type": "code",
   "execution_count": 6,
   "id": "c37f4f00",
   "metadata": {},
   "outputs": [
    {
     "name": "stdout",
     "output_type": "stream",
     "text": [
      "1 2 3 4 5 6 7 8 9\n"
     ]
    },
    {
     "data": {
      "text/plain": [
       "[3, 6, 9, 12, 15, 18, 21, 24, 27]"
      ]
     },
     "execution_count": 6,
     "metadata": {},
     "output_type": "execute_result"
    }
   ],
   "source": [
    "list1 = [int(i) for i in input().split()]\n",
    "list(map(lambda triple: triple*3, list1))"
   ]
  },
  {
   "cell_type": "markdown",
   "id": "c5794b73",
   "metadata": {},
   "source": [
    "# Find the Squares from the given List"
   ]
  },
  {
   "cell_type": "code",
   "execution_count": 7,
   "id": "a23c6ea9",
   "metadata": {},
   "outputs": [
    {
     "name": "stdout",
     "output_type": "stream",
     "text": [
      "1 2 3 4\n"
     ]
    },
    {
     "data": {
      "text/plain": [
       "[1, 4, 9, 16]"
      ]
     },
     "execution_count": 7,
     "metadata": {},
     "output_type": "execute_result"
    }
   ],
   "source": [
    "list2 = [int(i) for i in input().split()]\n",
    "list(map(lambda square: square**2, list2))"
   ]
  },
  {
   "cell_type": "code",
   "execution_count": null,
   "id": "ff6abd58",
   "metadata": {},
   "outputs": [],
   "source": []
  }
 ],
 "metadata": {
  "kernelspec": {
   "display_name": "Python 3 (ipykernel)",
   "language": "python",
   "name": "python3"
  },
  "language_info": {
   "codemirror_mode": {
    "name": "ipython",
    "version": 3
   },
   "file_extension": ".py",
   "mimetype": "text/x-python",
   "name": "python",
   "nbconvert_exporter": "python",
   "pygments_lexer": "ipython3",
   "version": "3.9.6"
  }
 },
 "nbformat": 4,
 "nbformat_minor": 5
}
