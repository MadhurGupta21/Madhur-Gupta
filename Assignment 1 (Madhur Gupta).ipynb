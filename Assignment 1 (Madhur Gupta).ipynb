{
 "cells": [
  {
   "cell_type": "markdown",
   "id": "7b260e30",
   "metadata": {},
   "source": [
    "# 1. Lets Play With Fibonacci"
   ]
  },
  {
   "cell_type": "code",
   "execution_count": 4,
   "id": "29f0d92d",
   "metadata": {},
   "outputs": [
    {
     "name": "stdout",
     "output_type": "stream",
     "text": [
      "Fibonacci series between 0 to 50:\n",
      "1\n",
      "1\n",
      "2\n",
      "3\n",
      "5\n",
      "8\n",
      "13\n",
      "21\n",
      "34\n"
     ]
    }
   ],
   "source": [
    "a=0\n",
    "b=1\n",
    "\n",
    "print('Fibonacci series between 0 to 50:')\n",
    "\n",
    "while b<50:\n",
    "    print(b)\n",
    "    a,b = b,a+b"
   ]
  },
  {
   "cell_type": "markdown",
   "id": "765ca13d",
   "metadata": {},
   "source": [
    "# 2. Send the Words To Mirror Dimension"
   ]
  },
  {
   "cell_type": "code",
   "execution_count": 6,
   "id": "12c16320",
   "metadata": {},
   "outputs": [
    {
     "name": "stdout",
     "output_type": "stream",
     "text": [
      "Enter the word: Edyoda\n",
      "adoydE"
     ]
    }
   ],
   "source": [
    "a = input(\"Enter the word: \")\n",
    "\n",
    "for char in range(len(a)-1, -1, -1):\n",
    "    print(a[char], end=\"\")"
   ]
  },
  {
   "cell_type": "markdown",
   "id": "cc2b8dd4",
   "metadata": {},
   "source": [
    "# 3. Don't go Outside in Odd day"
   ]
  },
  {
   "cell_type": "code",
   "execution_count": 7,
   "id": "7cf61c93",
   "metadata": {},
   "outputs": [
    {
     "name": "stdout",
     "output_type": "stream",
     "text": [
      "Count of even numbers: 4\n",
      "Count of odd numbers: 5\n"
     ]
    }
   ],
   "source": [
    "numbers = (1, 2, 3, 4, 5, 6, 7, 8, 9) \n",
    "\n",
    "even_count = 0\n",
    "odd_count = 0\n",
    "\n",
    "for item in numbers:\n",
    "    if item%2 == 0:\n",
    "        even_count += 1\n",
    "    else:\n",
    "        odd_count +=1\n",
    "\n",
    "print('Count of even numbers:',even_count)\n",
    "print('Count of odd numbers:',odd_count)\n",
    "\n"
   ]
  },
  {
   "cell_type": "code",
   "execution_count": null,
   "id": "fc6d8365",
   "metadata": {},
   "outputs": [],
   "source": []
  }
 ],
 "metadata": {
  "kernelspec": {
   "display_name": "Python 3 (ipykernel)",
   "language": "python",
   "name": "python3"
  },
  "language_info": {
   "codemirror_mode": {
    "name": "ipython",
    "version": 3
   },
   "file_extension": ".py",
   "mimetype": "text/x-python",
   "name": "python",
   "nbconvert_exporter": "python",
   "pygments_lexer": "ipython3",
   "version": "3.9.6"
  }
 },
 "nbformat": 4,
 "nbformat_minor": 5
}
